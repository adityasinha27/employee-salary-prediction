{
  "nbformat": 4,
  "nbformat_minor": 0,
  "metadata": {
    "colab": {
      "provenance": []
    },
    "kernelspec": {
      "name": "python3",
      "display_name": "Python 3"
    },
    "language_info": {
      "name": "python"
    }
  },
  "cells": [
    {
      "cell_type": "code",
      "source": [
        "# Step 1: Data Cleaning and Preprocessing\n",
        "\n",
        "import pandas as pd\n",
        "from sklearn.preprocessing import LabelEncoder\n",
        "\n",
        "# Load the dataset\n",
        "df = pd.read_csv(\"/content/Salary_Data.csv\")  # Adjust path if needed\n",
        "\n",
        "# Drop rows with missing values\n",
        "df_cleaned = df.dropna().reset_index(drop=True)\n",
        "\n",
        "# Initialize LabelEncoders\n",
        "le_gender = LabelEncoder()\n",
        "le_edu = LabelEncoder()\n",
        "le_job = LabelEncoder()\n",
        "\n",
        "# Encode categorical columns\n",
        "df_cleaned['Gender'] = le_gender.fit_transform(df_cleaned['Gender'])\n",
        "df_cleaned['Education Level'] = le_edu.fit_transform(df_cleaned['Education Level'])\n",
        "df_cleaned['Job Title'] = le_job.fit_transform(df_cleaned['Job Title'])\n",
        "\n",
        "# Preview cleaned data\n",
        "print(f\"Cleaned dataset shape: {df_cleaned.shape}\")\n",
        "print(df_cleaned.head())\n"
      ],
      "metadata": {
        "colab": {
          "base_uri": "https://localhost:8080/"
        },
        "id": "PWPUg4bVUH-w",
        "outputId": "e5e77bce-6a72-4eca-cfb2-97199301d6df"
      },
      "execution_count": null,
      "outputs": [
        {
          "output_type": "stream",
          "name": "stdout",
          "text": [
            "Cleaned dataset shape: (6698, 6)\n",
            "    Age  Gender  Education Level  Job Title  Years of Experience    Salary\n",
            "0  32.0       1                0        175                  5.0   90000.0\n",
            "1  28.0       0                3         18                  3.0   65000.0\n",
            "2  45.0       1                5        144                 15.0  150000.0\n",
            "3  36.0       0                0        115                  7.0   60000.0\n",
            "4  52.0       1                3         25                 20.0  200000.0\n"
          ]
        }
      ]
    },
    {
      "cell_type": "code",
      "source": [
        "# Step 2: Train-Test Split and Model Training + Evaluation\n",
        "\n",
        "from sklearn.model_selection import train_test_split\n",
        "from sklearn.linear_model import LinearRegression\n",
        "from sklearn.ensemble import RandomForestRegressor, GradientBoostingRegressor\n",
        "from sklearn.svm import SVR\n",
        "from sklearn.metrics import r2_score, mean_absolute_error, mean_squared_error\n",
        "import numpy as np\n",
        "import pandas as pd\n",
        "\n",
        "# Define features and target\n",
        "X = df_cleaned.drop(columns=['Salary'])\n",
        "y = df_cleaned['Salary']\n",
        "\n",
        "# Split the data into training and testing sets (80% train, 20% test)\n",
        "X_train, X_test, y_train, y_test = train_test_split(\n",
        "    X, y, test_size=0.2, random_state=42)\n",
        "\n",
        "# Define the models to test\n",
        "models = {\n",
        "    \"Linear Regression\": LinearRegression(),\n",
        "    \"Random Forest\": RandomForestRegressor(random_state=42),\n",
        "    \"Gradient Boosting\": GradientBoostingRegressor(random_state=42),\n",
        "    \"SVR\": SVR()\n",
        "}\n",
        "\n",
        "# Train, predict, and evaluate each model\n",
        "results = {}\n",
        "\n",
        "for name, model in models.items():\n",
        "    model.fit(X_train, y_train)\n",
        "    y_pred = model.predict(X_test)\n",
        "    results[name] = {\n",
        "        \"R2 Score\": r2_score(y_test, y_pred),\n",
        "        \"MAE\": mean_absolute_error(y_test, y_pred),\n",
        "        \"MSE\": mean_squared_error(y_test, y_pred),\n",
        "        \"RMSE\": np.sqrt(mean_squared_error(y_test, y_pred))\n",
        "    }\n",
        "\n",
        "# Display results\n",
        "results_df = pd.DataFrame(results).T.sort_values(by=\"R2 Score\", ascending=False)\n",
        "print(\"Model Performance Comparison:\\n\")\n",
        "print(results_df)\n"
      ],
      "metadata": {
        "colab": {
          "base_uri": "https://localhost:8080/"
        },
        "id": "R4VuZjJ8UpBn",
        "outputId": "0622fb92-4f1b-4520-bce9-393a7a2ff021"
      },
      "execution_count": null,
      "outputs": [
        {
          "output_type": "stream",
          "name": "stdout",
          "text": [
            "Model Performance Comparison:\n",
            "\n",
            "                   R2 Score           MAE           MSE          RMSE\n",
            "Random Forest      0.975335   3235.171172  7.033092e+07   8386.353418\n",
            "Gradient Boosting  0.935165   9884.521953  1.848738e+08  13596.830813\n",
            "Linear Regression  0.675099  24024.935440  9.264430e+08  30437.526495\n",
            "SVR                0.002618  46244.020346  2.843994e+09  53329.114610\n"
          ]
        }
      ]
    },
    {
      "cell_type": "code",
      "source": [
        "# Step 2: Extended Model Training and Evaluation (excluding XGBoost)\n",
        "\n",
        "from sklearn.model_selection import train_test_split\n",
        "from sklearn.linear_model import LinearRegression, Ridge, Lasso\n",
        "from sklearn.ensemble import RandomForestRegressor, GradientBoostingRegressor\n",
        "from sklearn.tree import DecisionTreeRegressor\n",
        "from sklearn.neighbors import KNeighborsRegressor\n",
        "from sklearn.svm import SVR\n",
        "from sklearn.metrics import r2_score, mean_absolute_error, mean_squared_error\n",
        "import numpy as np\n",
        "import pandas as pd\n",
        "\n",
        "# Feature and target split\n",
        "X = df_cleaned.drop(columns=['Salary'])\n",
        "y = df_cleaned['Salary']\n",
        "\n",
        "# Train-test split\n",
        "X_train, X_test, y_train, y_test = train_test_split(\n",
        "    X, y, test_size=0.2, random_state=42)\n",
        "\n",
        "# Define models\n",
        "models = {\n",
        "    \"Linear Regression\": LinearRegression(),\n",
        "    \"Random Forest\": RandomForestRegressor(random_state=42),\n",
        "    \"Gradient Boosting\": GradientBoostingRegressor(random_state=42),\n",
        "    \"SVR\": SVR(),\n",
        "    \"Decision Tree\": DecisionTreeRegressor(random_state=42),\n",
        "    \"K-Nearest Neighbors\": KNeighborsRegressor(),\n",
        "    \"Ridge Regression\": Ridge(),\n",
        "    \"Lasso Regression\": Lasso()\n",
        "    # \"XGBoost\": XGBRegressor() ← Disabled due to libxgboost error\n",
        "}\n",
        "\n",
        "# Train and evaluate models\n",
        "results = {}\n",
        "for name, model in models.items():\n",
        "    model.fit(X_train, y_train)\n",
        "    y_pred = model.predict(X_test)\n",
        "    results[name] = {\n",
        "        \"R2 Score\": r2_score(y_test, y_pred),\n",
        "        \"MAE\": mean_absolute_error(y_test, y_pred),\n",
        "        \"MSE\": mean_squared_error(y_test, y_pred),\n",
        "        \"RMSE\": np.sqrt(mean_squared_error(y_test, y_pred))\n",
        "    }\n",
        "\n",
        "# Display sorted results\n",
        "results_df = pd.DataFrame(results).T.sort_values(by=\"R2 Score\", ascending=False)\n",
        "print(\"Extended Model Comparison:\\n\")\n",
        "print(results_df)\n"
      ],
      "metadata": {
        "colab": {
          "base_uri": "https://localhost:8080/"
        },
        "id": "P3HJrOSNVR5-",
        "outputId": "d42859c0-6cc5-4106-b1f2-13e7e4f3ad3b"
      },
      "execution_count": null,
      "outputs": [
        {
          "output_type": "stream",
          "name": "stdout",
          "text": [
            "Extended Model Comparison:\n",
            "\n",
            "                     R2 Score           MAE           MSE          RMSE\n",
            "Random Forest        0.975335   3235.171172  7.033092e+07   8386.353418\n",
            "Decision Tree        0.971018   2944.999982  8.264181e+07   9090.754032\n",
            "K-Nearest Neighbors  0.966165   4050.582537  9.647958e+07   9822.401783\n",
            "Gradient Boosting    0.935165   9884.521953  1.848738e+08  13596.830813\n",
            "Linear Regression    0.675099  24024.935440  9.264430e+08  30437.526495\n",
            "Ridge Regression     0.675096  24025.174199  9.264501e+08  30437.642673\n",
            "Lasso Regression     0.675096  24025.174143  9.264509e+08  30437.656132\n",
            "SVR                  0.002618  46244.020346  2.843994e+09  53329.114610\n"
          ]
        }
      ]
    },
    {
      "cell_type": "code",
      "source": [
        "# Box Plot of Salary to detect outliers\n",
        "\n",
        "import pandas as pd\n",
        "import matplotlib.pyplot as plt\n",
        "import seaborn as sns\n",
        "\n",
        "# Load dataset\n",
        "df = pd.read_csv(\"/content/Salary_Data.csv\")  # Change path if needed\n",
        "\n",
        "# Drop rows with missing values\n",
        "df_cleaned = df.dropna().reset_index(drop=True)\n",
        "\n",
        "# Box plot\n",
        "plt.figure(figsize=(10, 5))\n",
        "sns.boxplot(x=df_cleaned['Salary'], color='skyblue')\n",
        "plt.title(\"Box Plot of Salary\")\n",
        "plt.xlabel(\"Salary\")\n",
        "plt.grid(True)\n",
        "plt.show()\n"
      ],
      "metadata": {
        "colab": {
          "base_uri": "https://localhost:8080/",
          "height": 487
        },
        "id": "fImcu8YyengW",
        "outputId": "09ec813f-a036-4591-956c-a57818b4480b"
      },
      "execution_count": 8,
      "outputs": [
        {
          "output_type": "display_data",
          "data": {
            "text/plain": [
              "<Figure size 1000x500 with 1 Axes>"
            ],
            "image/png": "[encoded data removed]"
          },
          "metadata": {}
        }
      ]
    },
    {
      "cell_type": "code",
      "source": [
        "# Import necessary libraries\n",
        "import pandas as pd\n",
        "import numpy as np\n",
        "import matplotlib.pyplot as plt\n",
        "import seaborn as sns\n",
        "\n",
        "from sklearn.model_selection import train_test_split\n",
        "from sklearn.linear_model import LinearRegression, Ridge, Lasso\n",
        "from sklearn.ensemble import RandomForestRegressor, GradientBoostingRegressor\n",
        "from sklearn.tree import DecisionTreeRegressor\n",
        "from sklearn.neighbors import KNeighborsRegressor\n",
        "from sklearn.svm import SVR\n",
        "from sklearn.preprocessing import LabelEncoder\n",
        "from sklearn.metrics import r2_score\n",
        "\n",
        "# Load and clean dataset\n",
        "df = pd.read_csv(\"/content/Salary_Data.csv\")  # adjust path if needed\n",
        "df_cleaned = df.dropna().reset_index(drop=True)\n",
        "\n",
        "# Encode categorical features\n",
        "le_gender = LabelEncoder()\n",
        "le_edu = LabelEncoder()\n",
        "le_job = LabelEncoder()\n",
        "df_cleaned['Gender'] = le_gender.fit_transform(df_cleaned['Gender'])\n",
        "df_cleaned['Education Level'] = le_edu.fit_transform(df_cleaned['Education Level'])\n",
        "df_cleaned['Job Title'] = le_job.fit_transform(df_cleaned['Job Title'])\n",
        "\n",
        "# Split features and target\n",
        "X = df_cleaned.drop(columns=['Salary'])\n",
        "y = df_cleaned['Salary']\n",
        "X_train, X_test, y_train, y_test = train_test_split(X, y, test_size=0.2, random_state=42)\n",
        "\n",
        "# Define models\n",
        "models = {\n",
        "    \"Linear Regression\": LinearRegression(),\n",
        "    \"Random Forest\": RandomForestRegressor(random_state=42),\n",
        "    \"Gradient Boosting\": GradientBoostingRegressor(random_state=42),\n",
        "    \"SVR\": SVR(),\n",
        "    \"Decision Tree\": DecisionTreeRegressor(random_state=42),\n",
        "    \"K-Nearest Neighbors\": KNeighborsRegressor(),\n",
        "    \"Ridge Regression\": Ridge(),\n",
        "    \"Lasso Regression\": Lasso()\n",
        "}\n",
        "\n",
        "# Train and evaluate models\n",
        "results = {}\n",
        "for name, model in models.items():\n",
        "    model.fit(X_train, y_train)\n",
        "    y_pred = model.predict(X_test)\n",
        "    results[name] = r2_score(y_test, y_pred)\n",
        "\n",
        "# Convert to DataFrame\n",
        "r2_df = pd.DataFrame(list(results.items()), columns=[\"Model\", \"R2 Score\"])\n",
        "r2_df = r2_df.sort_values(by=\"R2 Score\", ascending=False)\n",
        "\n",
        "# Plot\n",
        "plt.figure(figsize=(12, 6))\n",
        "sns.barplot(x=\"R2 Score\", y=\"Model\", data=r2_df, palette=\"viridis\")\n",
        "plt.title(\"Model Comparison Based on R² Score\")\n",
        "plt.xlabel(\"R² Score\")\n",
        "plt.ylabel(\"Model\")\n",
        "plt.xlim(0, 1.05)\n",
        "plt.grid(True)\n",
        "plt.tight_layout()\n",
        "plt.show()\n"
      ],
      "metadata": {
        "colab": {
          "base_uri": "https://localhost:8080/",
          "height": 694
        },
        "id": "GtfAg56CfWrV",
        "outputId": "4172364b-dfac-4980-84d1-92ce20a3ff83"
      },
      "execution_count": 9,
      "outputs": [
        {
          "output_type": "stream",
          "name": "stderr",
          "text": [
            "/tmp/ipython-input-9-321933242.py:58: FutureWarning: \n",
            "\n",
            "Passing `palette` without assigning `hue` is deprecated and will be removed in v0.14.0. Assign the `y` variable to `hue` and set `legend=False` for the same effect.\n",
            "\n",
            "  sns.barplot(x=\"R2 Score\", y=\"Model\", data=r2_df, palette=\"viridis\")\n"
          ]
        },
        {
          "output_type": "display_data",
          "data": {
            "text/plain": [
              "<Figure size 1200x600 with 1 Axes>"
            ],
            "image/png": "[encoded data removed]"
          },
          "metadata": {}
        }
      ]
    },
    {
      "cell_type": "code",
      "source": [
        "# Save the best model (Random Forest) using joblib\n",
        "import joblib\n",
        "\n",
        "# Train on the full cleaned dataset\n",
        "best_model = RandomForestRegressor(random_state=42)\n",
        "best_model.fit(X, y)\n",
        "\n",
        "# Save the model to disk\n",
        "joblib.dump(best_model, \"salary_predictor_rf_model.pkl\")\n",
        "\n",
        "# Also save encoders for use in Streamlit app\n",
        "joblib.dump(le_gender, \"encoder_gender.pkl\")\n",
        "joblib.dump(le_edu, \"encoder_edu.pkl\")\n",
        "joblib.dump(le_job, \"encoder_job.pkl\")\n"
      ],
      "metadata": {
        "colab": {
          "base_uri": "https://localhost:8080/"
        },
        "id": "Bib-IwitgAwH",
        "outputId": "cd9021a5-23d1-45f6-f0f2-58cc8b3c218e"
      },
      "execution_count": 10,
      "outputs": [
        {
          "output_type": "execute_result",
          "data": {
            "text/plain": [
              "['encoder_job.pkl']"
            ]
          },
          "metadata": {},
          "execution_count": 10
        }
      ]
    }
  ]
}